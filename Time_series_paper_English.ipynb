{
 "cells": [
  {
   "cell_type": "markdown",
   "metadata": {},
   "source": [
    "# Modeling Time Series\n",
    "by: Esteban Martinez Roldan"
   ]
  },
  {
   "cell_type": "markdown",
   "metadata": {},
   "source": [
    "A time series is a sequence of observed data, measured or recorded at regular intervals over time. These data are organized in a chronological sequence and are used to analyze patterns, trends, and variations that may occur as a function of time. Time series are applied in various fields such as economics, finance, meteorology, epidemiology, and engineering, among others, to study behavior and forecast future values based on historical data.\n",
    "\n",
    "Time series are represented as follows:\n",
    "\n",
    "$X_{t}, X_{t-1}, X_{t-2},...,X_{t-n}$,     current time (t) and lags (t-i)\n",
    "\n",
    "$X_{t+1}, X_{t+2},...,X_{t+n}$,            advances in the series (t+i)\n",
    "\n",
    "\n",
    "\n",
    "Time series can be classified according to their characteristics into:\n",
    "\n",
    "- **Deterministic**: These series follow a predictable pattern or can be modeled exactly using a mathematical function or a specific set of rules. In this context, \"deterministic\" implies that there is no randomness in the time series and that each future value can be precisely determined from previous values and the rules of the model.\n",
    "\n",
    "- **Stochastic or Random**: These are series in which at least part of the behavior or future values cannot be predicted exactly, even if all past data and model rules are known. In other words, there is an element of randomness or uncertainty that influences the future values of the time series.\n"
   ]
  },
  {
   "cell_type": "markdown",
   "metadata": {},
   "source": [
    "Let's Start with the Basics of Modeling Time Series. This includes stationary series, random walks, and the Dickey-Fuller stationarity test. If these terms seem intimidating, don't worry; the intention is to understand the interpretation and intuition behind them in a very simple way. However, even though it is not mentioned in the text, it is important to handle null values, impute missing values while respecting the data distribution, and finally, choose the best model for making forecasts.\n"
   ]
  },
  {
   "cell_type": "markdown",
   "metadata": {},
   "source": [
    "# Stationary Series\n",
    "**1.** There are three basic criteria to classify a series as stationary: The mean of the series should not be a function of time, but rather a constant. The image below shows a graph on the left that satisfies this condition, while the red graph has a time-dependent mean."
   ]
  },
  {
   "cell_type": "markdown",
   "metadata": {},
   "source": [
    "![Estacionario_media.jpg](Estacionario_media.jpg)"
   ]
  },
  {
   "cell_type": "markdown",
   "metadata": {},
   "source": [
    "\n",
    "**2.** The variance of the series should not be a function of time. This property is known as homoscedasticity. The following graph shows what is and what is not a stationary series. (Note the variable distribution in the graph on the right).\n"
   ]
  },
  {
   "cell_type": "markdown",
   "metadata": {},
   "source": [
    "![Estacionario_varianza.jpg](Estacionario_varianza.jpg)"
   ]
  },
  {
   "cell_type": "markdown",
   "metadata": {},
   "source": [
    "**3.** The covariance of the $i_{th}$ term and the $(i + m)$ $t_{h}$ term should not be a function of time. In the following graph, you will notice that the spread narrows as time increases. Therefore, the covariance is not constant over time for the \"red series.\""
   ]
  },
  {
   "cell_type": "markdown",
   "metadata": {},
   "source": [
    "![Estacionario_covariana.jpg](Estacionario_covariana.jpg)"
   ]
  },
  {
   "cell_type": "markdown",
   "metadata": {},
   "source": [
    "### Why Does the \"Stationarity\" of a Time Series Matter?\n",
    "The stationarity of a time series is a fundamental characteristic that significantly affects how it is analyzed, modeled, and forecasted. The main features are:\n",
    "\n",
    "-**Facilitates Modeling:** A stationary time series has statistical properties that do not change over time, such as mean and variance. This simplifies the mathematical and statistical modeling process because methods and techniques developed for stationary series are more effective and reliable. For example, models like ARIMA (Autoregressive Integrated Moving Average) are specifically designed for stationary series.\n",
    "\n",
    "-**More Accurate Predictions:** When a time series is stationary, the relationships between past and future data are more stable and predictable. This allows for more accurate predictions of the series' future values. Models based on stationary series tend to yield better results in terms of prediction accuracy compared to models applied to non-stationary series.\n",
    "\n",
    "-**Clearer Interpretation of Trends and Patterns:** Stationarity removes the influence of trends and non-seasonal variations, allowing for a clearer interpretation of the underlying patterns in the data. This is crucial for better understanding the dynamics of the phenomenon being studied and for making informed decisions based on evidence.\n",
    "\n",
    "-**Validation of Assumptions and Models:** Many statistical and econometric models assume that the time series is stationary or can be transformed into a stationary series using appropriate techniques. Validating stationarity helps ensure that the underlying assumptions in the model are valid, which increases confidence in the conclusions derived from the analysis.\n",
    "\n",
    "Stationarity is important because it directly affects the effectiveness of statistical models and the accuracy of predictions in time series analysis. By identifying whether a series is stationary, analysts can choose the most appropriate tools and techniques to perform robust analyses and obtain reliable results.\n",
    "\n",
    "In cases where the stationarity criterion is violated, the first step is to transform the time series to make it stationary and then attempt stochastic models to predict this time series. There are multiple ways to achieve stationarity, including detrending, differencing, and decomposition, among others.\n"
   ]
  },
  {
   "cell_type": "markdown",
   "metadata": {},
   "source": [
    "## Random Walk\n",
    "This is the most basic concept of time series. You might have heard the term somewhere, as it is frequently mentioned. However, I found that many people in the industry interpret a random walk as a stationary process. In this section, with the help of some mathematics, we will try to explain this concept.\n",
    "\n",
    "Example: Imagine a girl moving randomly on a giant chessboard. In this case, the girl's next position depends only on her last position. \n",
    "\n",
    "\n",
    "![caminata_alearoria.jpg](caminata_alearoria.jpg)\n",
    "\n",
    "\n",
    "Now imagine you are sitting in another room and cannot see the girl. You want to predict the girl's position over time. How accurate will you be? Of course, it becomes increasingly inaccurate as the girl's position changes.\n",
    "\n",
    "At $t = 0$ you know exactly where the girl is. The next time, she can only move to 8 squares, so her probability drops to $1/8$ instead of $1$ and continues to decrease. Now let's try to formulate this series:\n",
    "\n",
    "\n",
    "\n",
    "$X_{t} = X_{t-1} + \\epsilon_{t}$\n",
    "                                                                                        \n",
    "where $\\epsilon_{t}$ is the error at time  $t$, and it represents the randomness that the girl introduces at each moment.\n",
    "\n",
    "Now, if we fit recursively into all the $X$, we will eventually end up with the following equation:\n",
    "\n",
    "\n",
    "$X_{t} = X_{0} + \\sum_{i=1}^t\\epsilon_{i}$\n",
    "                                                       \n",
    "\n",
    "Now, let's try to validate our assumptions of stationary series in this random walk formulation:\n",
    "\n",
    "### Is the mean constant?\n",
    "\n",
    "We know that the expectation of any error will be zero, as it is random. Therefore, we have:\n",
    "\n",
    "$E[X_{t}] = E[X_{0}] = \\text{Constante}$.\n",
    "\n",
    "#### Is the variance constant?\n",
    "\n",
    "$Var[X_{t}] = Var[X_{0}] + \\sum_{i=1}^t Var[\\epsilon_i]$\n",
    "\n",
    "$Var[X_{t}] = t * \\sigma_{\\epsilon}^2 = \\text{Time dependent}$.\n",
    "\n",
    "Therefore, we infer that the random walk is not a stationary process, as it exhibits time-varying variance. Additionally, if we check the covariance, we see that it also depends on time. We already know that a random walk is a non-stationary process.\n",
    "\n",
    "\n",
    "### What makes time series special?\n",
    "\n",
    "As the name suggests, Time Series (TS) are a collection of data points collected at constant time intervals. These are analyzed to determine long-term trends in order to forecast the future or perform some other form of analysis. But how does a TS differ from a regular regression problem? There are 2 things:\n",
    "\n",
    "It is time-dependent: Therefore, the basic assumption of a linear regression model that observations are independent does not hold in this case.\n",
    "\n",
    "They typically exhibit increasing or decreasing trends: Most TS exhibit some form of trends or seasonality, meaning specific variations within a particular timeframe. For example, if we observe the sales of a wool jacket over time, we will invariably find higher sales during the winter seasons.\n"
   ]
  },
  {
   "cell_type": "markdown",
   "metadata": {},
   "source": [
    "### Dickey-Fuller Stationarity Test\n",
    "\n",
    "The Dickey-Fuller test is a statistical test used to determine whether a time series is stationary or non-stationary. The Dickey-Fuller test is based on a regression model where the dependent variable is the time series itself, $X_{𝑡}$. The model considers the difference between consecutive values of the time series, $\\Delta X_{t}=X_{t}-X_{t-1}$, as a measure of trend or non-stationarity.\n",
    "\n",
    "The hypothesis test is formulated as follows:\n",
    "\n",
    "\n",
    "- $H_{0}:\\ \\delta = 0$.The time series has a unit root, indicating it is non-stationary (i.e., it has a non-stationary structure or trend).\n",
    "\n",
    "- $H_{1}\\ \\delta <1$. The time series is stationary, meaning it does not have a unit root and is stationary in the weak sense.\n",
    "\n",
    "\n",
    "The Dickey-Fuller test assumes that the series behaves like an $AR(1)$ model (where the model uses only one past value to predict future values). This can be represented mathematically as follows:\n",
    "\n",
    "\n",
    "$X_{t} = u + \\phi_{1} X_{t-1} + e_{t}$,\n",
    "\n",
    "Al resta $X_{t-1}$ en ambos lados de la ecuación, se tiene:\n",
    "\n",
    "\n",
    "Subtracting $X_{t-1}$ from both sides of the equation yields:\n",
    "\n",
    "$\\Delta X_{t} = u +  \\delta X_{t-1} + e_{t}$\n",
    "\n",
    "\n",
    "Therefore, the statistical test can be formulated as follows:\n",
    "\n",
    "$t_{\\hat{\\delta}} = \\frac{ \\hat{\\delta}}{SE(\\hat{\\delta})}$\n",
    "\n",
    "\n",
    "The test was developed by Robert Dickey and Thomas Fuller in 1979. There are two versions of the test: a Standard version and an Augmented version (more commonly used). One of the differences is that the Augmented version can be applied to longer series and can handle series with missing values. The purpose of the test is to either reject or confirm the presence of unit roots, which helps in starting the modeling process or applying transformations to achieve stationarity in the series."
   ]
  },
  {
   "cell_type": "markdown",
   "metadata": {},
   "source": [
    "## References\n",
    "\n",
    "* https://en.wikipedia.org/wiki/Dickey%E2%80%93Fuller_test \n",
    "\n",
    "* https://www.analyticsvidhya.com/blog/2021/06/statistical-tests-to-check-stationarity-in-time-series-part-1/\n",
    "\n",
    "* https://medium.com/@ritusantra/tests-for-stationarity-in-time-series-dickey-fuller-test-augmented-dickey-fuller-adf-test-d2e92e214360"
   ]
  },
  {
   "cell_type": "code",
   "execution_count": null,
   "metadata": {},
   "outputs": [],
   "source": [
    "\n"
   ]
  }
 ],
 "metadata": {
  "kernelspec": {
   "display_name": "Python 3 (ipykernel)",
   "language": "python",
   "name": "python3"
  },
  "language_info": {
   "codemirror_mode": {
    "name": "ipython",
    "version": 3
   },
   "file_extension": ".py",
   "mimetype": "text/x-python",
   "name": "python",
   "nbconvert_exporter": "python",
   "pygments_lexer": "ipython3",
   "version": "3.10.12"
  }
 },
 "nbformat": 4,
 "nbformat_minor": 2
}
