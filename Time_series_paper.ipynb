{
 "cells": [
  {
   "cell_type": "markdown",
   "metadata": {},
   "source": [
    "# Modelando series de tiempo\n",
    "by: Esteban Martinez Roldan"
   ]
  },
  {
   "cell_type": "markdown",
   "metadata": {},
   "source": [
    "Una serie de tiempo es una secuencia de datos observados, medidas o registradas en intervalos regulares a lo largo del tiempo. Estos datos se organizan en una secuencia cronológica y se utilizan para analizar patrones, tendencias y variaciones que pueden ocurrir en función del tiempo. Las series de tiempo se aplican en diversos campos como la economía, las finanzas, la meteorología, la epidemiología y la ingeniería, entre otros, para estudiar el comportamiento y prever futuros valores basados en datos históricos.\n",
    "\n",
    "Las series de tiempo se representan de la siguiente manera:\n",
    "\n",
    "$X_{t}, X_{t-1}, X_{t-2},...,X_{t-n}$,     tiempo actual (t) y rezagos (t-i)\n",
    "\n",
    "$X_{t+1}, X_{t+2},...,X_{t+n}$,             adelantos de la serie (t+i)\n",
    "\n",
    "\n",
    "\n",
    "Las series de tiempo se pueden clasificarse según las características en:\n",
    "\n",
    "- **Deterministicas**: Estas series sigue un patrón predecible o que puede ser modelado de manera exacta mediante una función matemática o un conjunto de reglas específicas. En este contexto, \"determinística\" implica que no hay aleatoriedad en la serie de tiempo y que cada valor futuro puede ser determinado con precisión a partir de los valores previos y las reglas del modelo.  \n",
    "\n",
    "- **Estocásticas o Aleatorias**: Son aquella series en la que al menos una parte del comportamiento o de los valores futuros no puede ser predicha de manera exacta, incluso si se conocen todos los datos pasados y las reglas del modelo. En otras palabras, hay una componente de aleatoriedad o incertidumbre que influye en los valores futuros de la serie de tiempo.\n"
   ]
  },
  {
   "cell_type": "markdown",
   "metadata": {},
   "source": [
    "\n",
    "\n",
    "Empecemos por lo básico para modelar series de tiempo. Esto incluye series estacionarias, caminatas aleatorias, prueba de estacionaridad de Dickey-Fuller. Si estos términos ya te están asustando, no te preocupes, la intención es que de forma muy sencilla, se entienda la interpretación y la intuición que hay detrás de estos. Sin embargo, aunque no se menciona en el texto es importante manejar los valores nulos, imputar los valores perdidos respetando la distribución de los datos, y finalmente, elegir el mejor modelo para realizar los pronósticos.\n"
   ]
  },
  {
   "cell_type": "markdown",
   "metadata": {},
   "source": [
    "# Series estacionarias\n",
    "\n",
    "Exiten tres críterios básisos para clasificar una serie como estacionaria:\n",
    "\n",
    "1. La media de la serie no debe ser una función del tiempo, sino una constante. La imagen de abajo tiene el gráfico de la izquierda que satisface la condición, mientras que el gráfico en rojo tiene una media dependiente del tiempo.\n",
    "\n"
   ]
  },
  {
   "cell_type": "markdown",
   "metadata": {},
   "source": [
    "![Estacionario_media.jpg](Estacionario_media.jpg)"
   ]
  },
  {
   "cell_type": "markdown",
   "metadata": {},
   "source": [
    "\n",
    "2. La varianza de la serie no debe ser una función del tiempo. Esta propiedad es conocida como homoscedasticidad. El siguiente gráfico muestra qué es y qué no es una serie estacionaria. (Observe la distribución variable de la distribución en el gráfico de la derecha).\n"
   ]
  },
  {
   "cell_type": "markdown",
   "metadata": {},
   "source": [
    "![Estacionario_varianza.jpg](Estacionario_varianza.jpg)"
   ]
  },
  {
   "cell_type": "markdown",
   "metadata": {},
   "source": [
    "\n",
    "3. La covarianza del término $i_{th}$ y el término $(i + m)$ $t_{h}$ no deben ser una función del tiempo. En el siguiente gráfico, notará que la propagación se acerca a medida que aumenta el tiempo. Por lo tanto, la covarianza no es constante con el tiempo para la \"serie roja\".\n"
   ]
  },
  {
   "cell_type": "markdown",
   "metadata": {},
   "source": [
    "![Estacionario_covariana.jpg](Estacionario_covariana.jpg)"
   ]
  },
  {
   "cell_type": "markdown",
   "metadata": {},
   "source": [
    "\n",
    "\n",
    "### ¿Por qué me importa la \"estacionariedad\" de una serie de tiempo?\n",
    "\n",
    "La estacionariedad de una serie de tiempo es una característica fundamental que afecta significativamente la forma en que se analiza, modela y pronostica. Las principales caracteristicas son:\n",
    "\n",
    "- **Facilita el modelado:** Una serie de tiempo estacionaria tiene propiedades estadísticas que no cambian con el tiempo, como la media y la varianza. Esto simplifica el proceso de modelado matemático y estadístico, ya que los métodos y técnicas desarrollados para series estacionarias son más efectivos y fiables. Por ejemplo, los modelos como el ARIMA (Autoregressive Integrated Moving Average) están diseñados específicamente para series estacionarias.\n",
    "\n",
    "- **Predicciones más precisas:** Cuando una serie de tiempo es estacionaria, las relaciones entre los datos pasados y futuros son más estables y predecibles. Esto permite hacer predicciones más precisas sobre los valores futuros de la serie. Los modelos basados en series estacionarias tienden a tener mejores resultados en términos de precisión de predicción comparados con modelos aplicados a series no estacionarias.\n",
    "\n",
    "- **Interpretación más clara de tendencias y patrones:** La estacionariedad elimina la influencia de tendencias y variaciones no estacionales, lo que permite una interpretación más clara de los patrones subyacentes en los datos. Esto es crucial para comprender mejor la dinámica del fenómeno que se está estudiando y para tomar decisiones informadas basadas en evidencia.\n",
    "\n",
    "- **Validación de supuestos y modelos:** Muchos modelos estadísticos y econométricos asumen que la serie de tiempo es estacionaria o pueden transformarse en una serie estacionaria mediante técnicas adecuadas. Validar la estacionariedad ayuda a garantizar que los supuestos subyacentes en el modelo sean válidos, lo que aumenta la confianza en las conclusiones derivadas del análisis.\n",
    "\n",
    "La estacionariedad es importante porque afecta directamente la efectividad de los modelos estadísticos y la precisión de las predicciones en series de tiempo. Al identificar si una serie es estacionaria o no, los analistas pueden elegir las herramientas y técnicas más apropiadas para realizar análisis robustos y obtener resultados confiables.\n",
    "\n",
    "En los casos en que se viola el criterio estacionario, el primer paso es estacionarizar la serie de tiempo y luego intentar modelos estocásticos para predecir esta serie de tiempo. Hay múltiples maneras de conseguir la estacionaridad, entre estos tenemos algunos como: detrimento, diferenciación, descomposición, entre otros.\n",
    "\n"
   ]
  },
  {
   "cell_type": "markdown",
   "metadata": {},
   "source": [
    "## Caminata aleatoria\n",
    "\n",
    "Este es el concepto más básico de la serie temporal. Es posible que hallaz escuchado el concepto en alguna parte, pues se escucha muy amenudo. Pero, encontré muchas personas en la industria que interpretan la caminata aleatoria como un proceso estacionario. En esta sección, con la ayuda de algunas matemáticas, se intentará explicar este concepto.\n",
    "\n",
    "\n",
    "Ejemplo: Imagina a una chica moviéndose al azar en un tablero de ajedrez gigante. En este caso, la siguiente posición de la chica solo depende de la última posición.\n",
    "\n",
    "\n",
    "![caminata_alearoria.jpg](caminata_alearoria.jpg)\n",
    "\n",
    "\n",
    "\n",
    "Ahora imagina, estás sentado en otra habitación y no puedes ver a la chica. Entonces, quieres predecir la posición de la chica con el tiempo. ¿Qué tan exacto serás? Por supuesto, se volverá cada vez más inexacto a medida que cambie la posición de la chica. \n",
    "\n",
    "En $t = 0$ sabes exactamente dónde está la chica. La próxima vez, solo puede moverse a 8 casillas y, por lo tanto, su probabilidad cae a 1/8 en lugar de 1 y sigue bajando. Ahora tratemos de formular esta serie:\n",
    "\n",
    "$X_{t} = X_{t-1} + \\epsilon_{t}$\n",
    "                                                                                        \n",
    "\n",
    "donde $\\epsilon_{t}$ es el error en el punto de tiempo $t$, y es la aleatoriedad que trae la chica en cada momento.\n",
    "Ahora, si encajamos recursivamente en todas las $X$, finalmente terminaremos con la siguiente ecuación:\n",
    "\n",
    "$X_{t} = X_{0} + \\sum_{i=1}^t\\epsilon_{i}$\n",
    "                                                       \n",
    "\n",
    "Ahora, intentemos validar nuestros supuestos de series estacionarias en esta formulación de caminata aleatoria:\n",
    "\n",
    "#### ¿Es la media constante?\n",
    "\n",
    "\n",
    "Sabemos que la expectativa de cualquier error será cero, ya que es aleatorio. Por lo tanto, obtenemos:\n",
    "\n",
    "$E[X_{t}] = E[X_{0}] = \\text{Constante}$.\n",
    "\n",
    "#### ¿Es la varianza constante?\n",
    "\n",
    "$Var[X_{t}] = Var[X_{0}] + \\sum_{i=1}^t Var[\\epsilon_i]$\n",
    "\n",
    "$Var[X_{t}] = t * \\sigma_{\\epsilon}^2 = \\text{Time dependent}$.\n",
    "\n",
    "Por lo tanto, inferimos que el recorrido aleatorio no es un proceso estacionario, ya que tiene una variante de variación temporal. Además, si comprobamos la covarianza, vemos que también depende del tiempo. Ya sabemos que una caminata aleatoria es un proceso no estacionario.\n",
    "\n",
    "### ¿Qué hace que las series temporales sean especiales?\n",
    "\n",
    "Como su nombre lo indica, las Series de Tiempo (ST) son una colección de puntos de datos recopilados a intervalos de tiempo constantes. Estos se analizan para determinar la tendencia a largo plazo a fin de pronosticar el futuro o realizar alguna otra forma de análisis. Pero, ¿en qué se diferencia un ST de un problema de regresión regular? Hay 2 cosas:\n",
    "\n",
    "Es dependiente del tiempo: Por lo tanto, el supuesto básico de un modelo de regresión lineal de que las observaciones son independientes no se cumple en este caso.\n",
    "\n",
    "Por lo general, presentan una tendencia creciente o decreciente, la mayoría de los ST tienen alguna forma de tendencias o de estacionalidad, es decir, variaciones específicas de un marco de tiempo particular. Por ejemplo, si observamos las ventas de una chaqueta de lana con el tiempo, invariablemente encontrará mayores ventas en las temporadas de invierno."
   ]
  },
  {
   "cell_type": "markdown",
   "metadata": {},
   "source": [
    "## Prueba de estacionariedad de Dickey-Fuller\n",
    "\n",
    "La prueba de Dickey-Fuller es una prueba estadística utilizada para determinar si una serie de tiempo es estacionaria o no estacionaria. La prueba de Dickey-Fuller se basa en un modelo de regresión donde la variable dependiente es la propia serie de tiempo en el tiempo \n",
    "$X_𝑡$. El modelo considera la diferencia entre los valores consecutivos de la serie de tiempo $\\Delta X_t=X_t-X_{t-1}$ como una medida de la tendencia o no estacionariedad. \n",
    "\n",
    "La prueba de hipótesis se formula de la siguiente forma:\n",
    "\n",
    "- $H_{0}:\\ \\delta = 0$. La serie de tiempo  tiene una raíz unitaria, lo que implica que no es estacionaria (es decir, tiene una estructura no estacionaria o una tendencia)\n",
    "- $H_{1}\\ \\delta <1$. La serie de tiempo es estacionaria, es decir, no tiene una raíz unitaria y es estacionaria en el sentido débil.\n",
    "\n",
    "La prueba de Dickey-Fuller asume que la serie tiene un comportamiento similar a un $AR(1)$ (modelo solo utiliza un valor del pasado para predecir el valor futuro), esto se puede representar matemáticamente, de la siguiente manera:\n",
    "\n",
    "$X_{t} = u + \\phi_{1} X_{t-1} + e_{t}$,\n",
    "\n",
    "Al resta $X_{t-1}$ en ambos lados de la ecuación, se tiene:\n",
    "\n",
    "$\\Delta X_{t} = u +  \\delta X_{t-1} + e_{t}$\n",
    "\n",
    "Entonces, se puede formular el test estadístico de la siguiente manera:\n",
    "\n",
    "$t_{\\hat{\\delta}} = \\frac{ \\hat{\\delta}}{SE(\\hat{\\delta})}$\n",
    "\n",
    "\n",
    "El test fue desarrollado por Robert Dickey y Thomas Fuller in 1979. El test tiene una versión Standard y una versión Aumentada (más utilizada). Entre sus diferencias se encuentra que la versión Aumentada, se puede aplicar a series más extensas y que además, trabaja con series con valores perdidos. La idea con el test es descartar o confirmar la presencia de las raíces unitarias, para iniciar la modelación o iniciar con las transformaciones hasta alcanzar la estacionaridad de la serie. \n",
    "\n"
   ]
  },
  {
   "cell_type": "markdown",
   "metadata": {},
   "source": [
    "## References\n",
    "\n",
    "* https://en.wikipedia.org/wiki/Dickey%E2%80%93Fuller_test \n",
    "\n",
    "* https://www.analyticsvidhya.com/blog/2021/06/statistical-tests-to-check-stationarity-in-time-series-part-1/\n",
    "\n",
    "* https://medium.com/@ritusantra/tests-for-stationarity-in-time-series-dickey-fuller-test-augmented-dickey-fuller-adf-test-d2e92e214360"
   ]
  },
  {
   "cell_type": "code",
   "execution_count": null,
   "metadata": {},
   "outputs": [],
   "source": [
    "\n"
   ]
  }
 ],
 "metadata": {
  "kernelspec": {
   "display_name": "Python 3 (ipykernel)",
   "language": "python",
   "name": "python3"
  },
  "language_info": {
   "codemirror_mode": {
    "name": "ipython",
    "version": 3
   },
   "file_extension": ".py",
   "mimetype": "text/x-python",
   "name": "python",
   "nbconvert_exporter": "python",
   "pygments_lexer": "ipython3",
   "version": "3.10.12"
  }
 },
 "nbformat": 4,
 "nbformat_minor": 2
}
